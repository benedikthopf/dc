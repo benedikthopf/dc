{
 "cells": [
  {
   "cell_type": "code",
   "execution_count": 1,
   "id": "fe07f369-1ec6-4cb5-b9b7-64210f22c351",
   "metadata": {},
   "outputs": [],
   "source": [
    "from dataset import Image_Dataset\n",
    "import open_clip\n",
    "from torch.utils.data import DataLoader\n",
    "import torch\n",
    "from tqdm import tqdm\n",
    "torch.set_grad_enabled(False)\n",
    "N = 10_000"
   ]
  },
  {
   "cell_type": "code",
   "execution_count": 2,
   "id": "bd64991b-1f79-4f70-9166-093225be566e",
   "metadata": {},
   "outputs": [
    {
     "name": "stderr",
     "output_type": "stream",
     "text": [
      "1251it [09:07,  2.29it/s]                                                                                                                   \n"
     ]
    },
    {
     "name": "stdout",
     "output_type": "stream",
     "text": [
      "../../datasets/dog/ 0.12816427648067474 10008\n"
     ]
    },
    {
     "name": "stderr",
     "output_type": "stream",
     "text": [
      "1251it [09:06,  2.29it/s]                                                                                                                   \n"
     ]
    },
    {
     "name": "stdout",
     "output_type": "stream",
     "text": [
      "../../datasets/bedroom/ 0.010223356075584888 10008\n"
     ]
    },
    {
     "name": "stderr",
     "output_type": "stream",
     "text": [
      "  4%|███▉                                                                                                 | 49/1250 [00:21<08:34,  2.33it/s]\n"
     ]
    },
    {
     "name": "stdout",
     "output_type": "stream",
     "text": [
      "../../datasets/few-shot-images/AnimalFace-dog/img/ 0.3282632827758789 389\n"
     ]
    },
    {
     "name": "stderr",
     "output_type": "stream",
     "text": [
      "  2%|█▌                                                                                                   | 20/1250 [00:08<08:32,  2.40it/s]\n"
     ]
    },
    {
     "name": "stdout",
     "output_type": "stream",
     "text": [
      "../../datasets/few-shot-images/AnimalFace-cat/img/ 0.4686216711997986 160\n"
     ]
    },
    {
     "name": "stderr",
     "output_type": "stream",
     "text": [
      "  1%|█▎                                                                                                   | 16/1250 [00:06<08:28,  2.43it/s]\n"
     ]
    },
    {
     "name": "stdout",
     "output_type": "stream",
     "text": [
      "../../datasets/few-shot-images/fauvism-still-life/img/ 0.3153287172317505 124\n"
     ]
    },
    {
     "name": "stderr",
     "output_type": "stream",
     "text": [
      "  1%|█▎                                                                                                   | 16/1250 [00:06<08:41,  2.37it/s]\n"
     ]
    },
    {
     "name": "stdout",
     "output_type": "stream",
     "text": [
      "../../datasets/few-shot-images/moongate/img/ 0.28092846274375916 128\n"
     ]
    }
   ],
   "source": [
    "pretraining_datasets = dict(open_clip.list_pretrained())\n",
    "\n",
    "clip = open_clip.create_model(\"ViT-H-14\", pretrained=pretraining_datasets[\"ViT-H-14\"]).cuda()\n",
    "\n",
    "for path in [\n",
    "  \"../../datasets/dog/\",\n",
    "  \"../../datasets/bedroom/\",\n",
    "  \"../../datasets/few-shot-images/AnimalFace-dog/img/\",\n",
    "  \"../../datasets/few-shot-images/AnimalFace-cat/img/\",\n",
    "  \"../../datasets/few-shot-images/fauvism-still-life/img/\",\n",
    "  \"../../datasets/few-shot-images/moongate/img/\",  \n",
    "]:\n",
    "\n",
    "\n",
    "    # dataset = Image_Dataset(root_dir=\"../../datasets/bedroom/\", filetype=\"webp\", resolution=(224,224))\n",
    "    dataset = Image_Dataset(root_dir=path, filetype=\"jpg\" if not \"bedroom\" in path else \"webp\", resolution=(224,224))\n",
    "\n",
    "    dataloader = DataLoader(dataset, batch_size=8)\n",
    "\n",
    "    min_clip_score = torch.tensor(1)\n",
    "    i = 0\n",
    "    cvs = []\n",
    "    for x in tqdm(dataloader, total=N//8):\n",
    "        if i > N:\n",
    "            break\n",
    "        i += 8\n",
    "        img = x[\"image\"].to(\"cuda\")\n",
    "        cv = clip.encode_image(img)\n",
    "        cv = cv / cv.norm(dim=-1, keepdim=True)\n",
    "        cvs.append(cv)\n",
    "    cvs = torch.cat(cvs)\n",
    "    min_clip_score = (cvs @ cvs.T).min()\n",
    "    print(path, min_clip_score.item(), len(cvs))\n",
    "    del dataloader\n",
    "    del dataset\n",
    "    del cv"
   ]
  },
  {
   "cell_type": "code",
   "execution_count": null,
   "id": "1b2b763f-47d1-4da6-a5b6-104daa834f5a",
   "metadata": {},
   "outputs": [],
   "source": []
  }
 ],
 "metadata": {
  "kernelspec": {
   "display_name": "Python 3 (ipykernel)",
   "language": "python",
   "name": "python3"
  },
  "language_info": {
   "codemirror_mode": {
    "name": "ipython",
    "version": 3
   },
   "file_extension": ".py",
   "mimetype": "text/x-python",
   "name": "python",
   "nbconvert_exporter": "python",
   "pygments_lexer": "ipython3",
   "version": "3.10.9"
  }
 },
 "nbformat": 4,
 "nbformat_minor": 5
}
